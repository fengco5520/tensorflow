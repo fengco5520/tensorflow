{
  "nbformat": 4,
  "nbformat_minor": 0,
  "metadata": {
    "colab": {
      "name": "_index.ipynb",
      "version": "0.3.2",
      "provenance": [],
      "collapsed_sections": [],
      "include_colab_link": true
    },
    "kernelspec": {
      "name": "python3",
      "display_name": "Python 3"
    }
  },
  "cells": [
    {
      "cell_type": "markdown",
      "metadata": {
        "id": "view-in-github",
        "colab_type": "text"
      },
      "source": [
        "[View in Colaboratory](https://colab.research.google.com/github/fengco5520/tensorflow/blob/master/_index.ipynb)"
      ]
    },
    {
      "metadata": {
        "id": "O3I60eTqsdmw",
        "colab_type": "code",
        "colab": {
          "base_uri": "https://localhost:8080/",
          "height": 34
        },
        "outputId": "7188a0c0-f05f-4b21-af06-6a17ff6f959c"
      },
      "cell_type": "code",
      "source": [
        "import tensorflow as tf\n",
        "from keras.utils import plot_model"
      ],
      "execution_count": 1,
      "outputs": [
        {
          "output_type": "stream",
          "text": [
            "Using TensorFlow backend.\n"
          ],
          "name": "stderr"
        }
      ]
    },
    {
      "metadata": {
        "id": "32QboyKL9wuX",
        "colab_type": "code",
        "colab": {
          "base_uri": "https://localhost:8080/",
          "height": 68
        },
        "outputId": "f9b8cec5-8b0a-48df-d1a4-a997e527f5b5"
      },
      "cell_type": "code",
      "source": [
        "#!apt-get -qq install -y graphviz && pip install -q pydot\n",
        "\n",
        "!pip install pydot\n",
        "!pip install graphviz\n",
        "\n",
        "import pydot"
      ],
      "execution_count": 18,
      "outputs": [
        {
          "output_type": "stream",
          "text": [
            "Requirement already satisfied: pydot in /usr/local/lib/python3.6/dist-packages (1.2.4)\r\n",
            "Requirement already satisfied: pyparsing>=2.1.4 in /usr/local/lib/python3.6/dist-packages (from pydot) (2.2.0)\n",
            "Requirement already satisfied: graphviz in /usr/local/lib/python3.6/dist-packages (0.8.4)\n"
          ],
          "name": "stdout"
        }
      ]
    },
    {
      "metadata": {
        "id": "Z4Y8wga7seAH",
        "colab_type": "text"
      },
      "cell_type": "markdown",
      "source": [
        "Load the data for MNIST dataset \n",
        "\n"
      ]
    },
    {
      "metadata": {
        "id": "kAffPGGruR9J",
        "colab_type": "code",
        "colab": {
          "base_uri": "https://localhost:8080/",
          "height": 68
        },
        "outputId": "172c0cf9-d6b7-46ba-9522-1650e9841017"
      },
      "cell_type": "code",
      "source": [
        "mnist = tf.keras.datasets.mnist\n",
        "\n",
        "(x_train, y_train), (x_test, y_test) = mnist.load_data()\n",
        "\n",
        "x_train, x_test = x_train /255.0, x_test / 255.0\n",
        "\n",
        "#x_train.view()\n",
        "y_train.view()"
      ],
      "execution_count": 3,
      "outputs": [
        {
          "output_type": "stream",
          "text": [
            "Downloading data from https://s3.amazonaws.com/img-datasets/mnist.npz\n",
            "11493376/11490434 [==============================] - 1s 0us/step\n"
          ],
          "name": "stdout"
        },
        {
          "output_type": "execute_result",
          "data": {
            "text/plain": [
              "array([5, 0, 4, ..., 5, 6, 8], dtype=uint8)"
            ]
          },
          "metadata": {
            "tags": []
          },
          "execution_count": 3
        }
      ]
    },
    {
      "metadata": {
        "id": "XsBf4hYt7akf",
        "colab_type": "text"
      },
      "cell_type": "markdown",
      "source": [
        "Stacking the layers to build the model"
      ]
    },
    {
      "metadata": {
        "id": "ejaKKUq36x6J",
        "colab_type": "code",
        "colab": {}
      },
      "cell_type": "code",
      "source": [
        "model = tf.keras.models.Sequential([\n",
        "    tf.keras.layers.Flatten(),\n",
        "    tf.keras.layers.Dense(512, activation=tf.nn.relu),\n",
        "    tf.keras.layers.Dropout(0.2),\n",
        "    tf.keras.layers.Dense(10, activation=tf.nn.softmax)\n",
        "])\n",
        "\n",
        "model.compile(optimizer = 'adam',\n",
        "              loss = 'sparse_categorical_crossentropy',\n",
        "              metrics = ['accuracy'])\n",
        "\n",
        "#plot_model(model, to_file='model.png')"
      ],
      "execution_count": 0,
      "outputs": []
    },
    {
      "metadata": {
        "id": "Oa7lv_959vkJ",
        "colab_type": "code",
        "colab": {
          "base_uri": "https://localhost:8080/",
          "height": 241
        },
        "outputId": "0f06bf6d-ce64-47a0-e348-762beebbb210"
      },
      "cell_type": "code",
      "source": [
        "model.fit(x_train, y_train, epochs = 5)\n",
        "model.evaluate(x_test, y_test)"
      ],
      "execution_count": 23,
      "outputs": [
        {
          "output_type": "stream",
          "text": [
            "Epoch 1/5\n",
            "60000/60000 [==============================] - 20s 332us/step - loss: 0.2202 - acc: 0.9351\n",
            "Epoch 2/5\n",
            "60000/60000 [==============================] - 19s 317us/step - loss: 0.0979 - acc: 0.9696\n",
            "Epoch 3/5\n",
            "   32/60000 [..............................] - ETA: 27s - loss: 0.0264 - acc: 1.0000"
          ],
          "name": "stdout"
        },
        {
          "output_type": "stream",
          "text": [
            "60000/60000 [==============================] - 19s 319us/step - loss: 0.0694 - acc: 0.9785\n",
            "Epoch 4/5\n",
            "60000/60000 [==============================] - 19s 317us/step - loss: 0.0550 - acc: 0.9821\n",
            "Epoch 5/5\n",
            " 4032/60000 [=>............................] - ETA: 17s - loss: 0.0369 - acc: 0.9878"
          ],
          "name": "stdout"
        },
        {
          "output_type": "stream",
          "text": [
            "60000/60000 [==============================] - 19s 316us/step - loss: 0.0423 - acc: 0.9863\n",
            "10000/10000 [==============================] - 1s 65us/step\n"
          ],
          "name": "stdout"
        },
        {
          "output_type": "execute_result",
          "data": {
            "text/plain": [
              "[0.06985218625976704, 0.9799]"
            ]
          },
          "metadata": {
            "tags": []
          },
          "execution_count": 23
        }
      ]
    }
  ]
}